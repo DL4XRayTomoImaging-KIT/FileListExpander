{
 "cells": [
  {
   "cell_type": "markdown",
   "metadata": {},
   "source": [
    "## generating files for test\n",
    "\n",
    "There will be a number of files and one directory inside the directory named test."
   ]
  },
  {
   "cell_type": "code",
   "execution_count": 1,
   "metadata": {},
   "outputs": [],
   "source": [
    "import os\n",
    "\n",
    "file_names = ['blur', 'clahe', 'equalize', 'gaussnoise', 'gaussianblur',\n",
    "              'glassblur', 'imagecompression', 'invertimg', 'jpegcompression', 'medianblur',\n",
    "              'motionblur', 'multiplicativenoise', 'randombrightness', 'randombrightnesscontrast', \n",
    "              'randomcontrast', 'randomgamma', 'solarize', 'coarsedropout', 'elastictransform',\n",
    "              'flip', 'griddistortion', 'griddropout', 'horizontalflip', 'opticaldistortion',\n",
    "              'randomgridshuffle', 'randomrotate90', 'randomscale', 'rotate', 'shiftscalerotate', \n",
    "              'transpose', 'verticalflip']\n",
    "os.mkdir('test')\n",
    "for fname in file_names:\n",
    "    os.mknod(os.path.join('test', fname))\n",
    "os.mkdir(os.path.join('test', 'm_dirm')) # this is for directory exclusion testing"
   ]
  },
  {
   "cell_type": "code",
   "execution_count": 2,
   "metadata": {},
   "outputs": [],
   "source": [
    "from expander import Expander"
   ]
  },
  {
   "cell_type": "code",
   "execution_count": 3,
   "metadata": {},
   "outputs": [],
   "source": [
    "exp = Expander()"
   ]
  },
  {
   "cell_type": "markdown",
   "metadata": {},
   "source": [
    "## testing dir-input"
   ]
  },
  {
   "cell_type": "code",
   "execution_count": 4,
   "metadata": {},
   "outputs": [
    {
     "data": {
      "text/plain": [
       "['test/verticalflip',\n",
       " 'test/randomgamma',\n",
       " 'test/imagecompression',\n",
       " 'test/glassblur',\n",
       " 'test/jpegcompression',\n",
       " 'test/clahe',\n",
       " 'test/multiplicativenoise',\n",
       " 'test/transpose',\n",
       " 'test/horizontalflip',\n",
       " 'test/flip',\n",
       " 'test/griddropout',\n",
       " 'test/medianblur',\n",
       " 'test/randomrotate90',\n",
       " 'test/randomscale',\n",
       " 'test/gaussianblur',\n",
       " 'test/motionblur',\n",
       " 'test/solarize',\n",
       " 'test/randombrightness',\n",
       " 'test/invertimg',\n",
       " 'test/randombrightnesscontrast',\n",
       " 'test/griddistortion',\n",
       " 'test/blur',\n",
       " 'test/elastictransform',\n",
       " 'test/gaussnoise',\n",
       " 'test/shiftscalerotate',\n",
       " 'test/opticaldistortion',\n",
       " 'test/coarsedropout',\n",
       " 'test/equalize',\n",
       " 'test/randomcontrast',\n",
       " 'test/rotate',\n",
       " 'test/randomgridshuffle']"
      ]
     },
     "execution_count": 4,
     "metadata": {},
     "output_type": "execute_result"
    }
   ],
   "source": [
    "exp('test')"
   ]
  },
  {
   "cell_type": "markdown",
   "metadata": {},
   "source": [
    "## testing list-input"
   ]
  },
  {
   "cell_type": "code",
   "execution_count": 5,
   "metadata": {},
   "outputs": [
    {
     "data": {
      "text/plain": [
       "['test/blur', 'test/rotate']"
      ]
     },
     "execution_count": 5,
     "metadata": {},
     "output_type": "execute_result"
    }
   ],
   "source": [
    "exp(['test/blur', 'test/rotate', 'test/rotate_fake'])"
   ]
  },
  {
   "cell_type": "markdown",
   "metadata": {},
   "source": [
    "## testing glob-input"
   ]
  },
  {
   "cell_type": "code",
   "execution_count": 6,
   "metadata": {},
   "outputs": [
    {
     "data": {
      "text/plain": [
       "['test/randomgamma',\n",
       " 'test/randomrotate90',\n",
       " 'test/randomscale',\n",
       " 'test/randombrightness',\n",
       " 'test/randombrightnesscontrast',\n",
       " 'test/randomcontrast',\n",
       " 'test/randomgridshuffle']"
      ]
     },
     "execution_count": 6,
     "metadata": {},
     "output_type": "execute_result"
    }
   ],
   "source": [
    "exp('test/rand*')"
   ]
  },
  {
   "cell_type": "markdown",
   "metadata": {},
   "source": [
    "## testing file-input"
   ]
  },
  {
   "cell_type": "code",
   "execution_count": 7,
   "metadata": {},
   "outputs": [],
   "source": [
    "with open('test-mode.txt', 'w') as f:\n",
    "    print('\\n'.join([os.path.join('test', i) for i in ['clahe', 'equalize', 'glassblur']]), file=f)"
   ]
  },
  {
   "cell_type": "code",
   "execution_count": 8,
   "metadata": {
    "scrolled": true
   },
   "outputs": [
    {
     "data": {
      "text/plain": [
       "['test/clahe', 'test/equalize', 'test/glassblur']"
      ]
     },
     "execution_count": 8,
     "metadata": {},
     "output_type": "execute_result"
    }
   ],
   "source": [
    "exp('test-mode.txt')"
   ]
  },
  {
   "cell_type": "markdown",
   "metadata": {},
   "source": [
    "## testing single-input"
   ]
  },
  {
   "cell_type": "code",
   "execution_count": 9,
   "metadata": {},
   "outputs": [
    {
     "data": {
      "text/plain": [
       "['test/clahe']"
      ]
     },
     "execution_count": 9,
     "metadata": {},
     "output_type": "execute_result"
    }
   ],
   "source": [
    "exp(os.path.join('test', 'clahe'))"
   ]
  },
  {
   "cell_type": "markdown",
   "metadata": {},
   "source": [
    "## different regexp modes"
   ]
  },
  {
   "cell_type": "code",
   "execution_count": 10,
   "metadata": {},
   "outputs": [
    {
     "data": {
      "text/plain": [
       "['test/randomgamma',\n",
       " 'test/imagecompression',\n",
       " 'test/jpegcompression',\n",
       " 'test/multiplicativenoise',\n",
       " 'test/medianblur',\n",
       " 'test/randomrotate90',\n",
       " 'test/randomscale',\n",
       " 'test/motionblur',\n",
       " 'test/randombrightness',\n",
       " 'test/invertimg',\n",
       " 'test/randombrightnesscontrast',\n",
       " 'test/elastictransform',\n",
       " 'test/randomcontrast',\n",
       " 'test/randomgridshuffle']"
      ]
     },
     "execution_count": 10,
     "metadata": {},
     "output_type": "execute_result"
    }
   ],
   "source": [
    "exp('test', regexp='m', regexp_option='contains')"
   ]
  },
  {
   "cell_type": "code",
   "execution_count": 11,
   "metadata": {},
   "outputs": [
    {
     "data": {
      "text/plain": [
       "['test/multiplicativenoise', 'test/flip', 'test/medianblur', 'test/motionblur']"
      ]
     },
     "execution_count": 11,
     "metadata": {},
     "output_type": "execute_result"
    }
   ],
   "source": [
    "exp('test', regexp='test/[mf].*', regexp_option='matches')"
   ]
  },
  {
   "cell_type": "code",
   "execution_count": 12,
   "metadata": {},
   "outputs": [
    {
     "data": {
      "text/plain": [
       "['test/flip', 'test/griddropout', 'test/griddistortion', 'test/blur']"
      ]
     },
     "execution_count": 12,
     "metadata": {},
     "output_type": "execute_result"
    }
   ],
   "source": [
    "exp('test', regexp='[ma]', regexp_option='not_contains')"
   ]
  },
  {
   "cell_type": "code",
   "execution_count": 13,
   "metadata": {},
   "outputs": [
    {
     "data": {
      "text/plain": [
       "['test/verticalflip',\n",
       " 'test/imagecompression',\n",
       " 'test/jpegcompression',\n",
       " 'test/clahe',\n",
       " 'test/transpose',\n",
       " 'test/horizontalflip',\n",
       " 'test/flip',\n",
       " 'test/solarize',\n",
       " 'test/invertimg',\n",
       " 'test/blur',\n",
       " 'test/elastictransform',\n",
       " 'test/shiftscalerotate',\n",
       " 'test/opticaldistortion',\n",
       " 'test/coarsedropout',\n",
       " 'test/equalize']"
      ]
     },
     "execution_count": 13,
     "metadata": {},
     "output_type": "execute_result"
    }
   ],
   "source": [
    "exp('test', regexp='test/[mrg].*', regexp_option='not_matches')"
   ]
  },
  {
   "cell_type": "markdown",
   "metadata": {},
   "source": [
    "## do not exclude dirs"
   ]
  },
  {
   "cell_type": "code",
   "execution_count": 14,
   "metadata": {},
   "outputs": [
    {
     "data": {
      "text/plain": [
       "['test/multiplicativenoise',\n",
       " 'test/flip',\n",
       " 'test/medianblur',\n",
       " 'test/motionblur',\n",
       " 'test/m_dirm']"
      ]
     },
     "execution_count": 14,
     "metadata": {},
     "output_type": "execute_result"
    }
   ],
   "source": [
    "exp = Expander(files_only=False)\n",
    "exp('test', regexp='test/[mf].*', regexp_option='matches')"
   ]
  },
  {
   "cell_type": "markdown",
   "metadata": {},
   "source": [
    "## verbosity"
   ]
  },
  {
   "cell_type": "code",
   "execution_count": 15,
   "metadata": {
    "scrolled": false
   },
   "outputs": [
    {
     "name": "stdout",
     "output_type": "stream",
     "text": [
      "adding path \"test/verticalflip\" to queue.\n",
      "adding path \"test/randomgamma\" to queue.\n",
      "adding path \"test/imagecompression\" to queue.\n",
      "adding path \"test/glassblur\" to queue.\n",
      "adding path \"test/jpegcompression\" to queue.\n",
      "adding path \"test/clahe\" to queue.\n",
      "adding path \"test/multiplicativenoise\" to queue.\n",
      "adding path \"test/transpose\" to queue.\n",
      "adding path \"test/horizontalflip\" to queue.\n",
      "adding path \"test/flip\" to queue.\n",
      "adding path \"test/griddropout\" to queue.\n",
      "adding path \"test/medianblur\" to queue.\n",
      "adding path \"test/randomrotate90\" to queue.\n",
      "adding path \"test/randomscale\" to queue.\n",
      "adding path \"test/gaussianblur\" to queue.\n",
      "adding path \"test/motionblur\" to queue.\n",
      "path \"test/m_dirm\" is not a file.\n",
      "adding path \"test/solarize\" to queue.\n",
      "adding path \"test/randombrightness\" to queue.\n",
      "adding path \"test/invertimg\" to queue.\n",
      "adding path \"test/randombrightnesscontrast\" to queue.\n",
      "adding path \"test/griddistortion\" to queue.\n",
      "adding path \"test/blur\" to queue.\n",
      "adding path \"test/elastictransform\" to queue.\n",
      "adding path \"test/gaussnoise\" to queue.\n",
      "adding path \"test/shiftscalerotate\" to queue.\n",
      "adding path \"test/opticaldistortion\" to queue.\n",
      "adding path \"test/coarsedropout\" to queue.\n",
      "adding path \"test/equalize\" to queue.\n",
      "adding path \"test/randomcontrast\" to queue.\n",
      "adding path \"test/rotate\" to queue.\n",
      "adding path \"test/randomgridshuffle\" to queue.\n",
      "path test/verticalflip removed while filtering with regular expression\n",
      "path test/randomgamma removed while filtering with regular expression\n",
      "path test/imagecompression removed while filtering with regular expression\n",
      "path test/glassblur removed while filtering with regular expression\n",
      "path test/jpegcompression removed while filtering with regular expression\n",
      "path test/clahe removed while filtering with regular expression\n",
      "path test/transpose removed while filtering with regular expression\n",
      "path test/horizontalflip removed while filtering with regular expression\n",
      "path test/griddropout removed while filtering with regular expression\n",
      "path test/randomrotate90 removed while filtering with regular expression\n",
      "path test/randomscale removed while filtering with regular expression\n",
      "path test/gaussianblur removed while filtering with regular expression\n",
      "path test/solarize removed while filtering with regular expression\n",
      "path test/randombrightness removed while filtering with regular expression\n",
      "path test/invertimg removed while filtering with regular expression\n",
      "path test/randombrightnesscontrast removed while filtering with regular expression\n",
      "path test/griddistortion removed while filtering with regular expression\n",
      "path test/blur removed while filtering with regular expression\n",
      "path test/elastictransform removed while filtering with regular expression\n",
      "path test/gaussnoise removed while filtering with regular expression\n",
      "path test/shiftscalerotate removed while filtering with regular expression\n",
      "path test/opticaldistortion removed while filtering with regular expression\n",
      "path test/coarsedropout removed while filtering with regular expression\n",
      "path test/equalize removed while filtering with regular expression\n",
      "path test/randomcontrast removed while filtering with regular expression\n",
      "path test/rotate removed while filtering with regular expression\n",
      "path test/randomgridshuffle removed while filtering with regular expression\n"
     ]
    },
    {
     "data": {
      "text/plain": [
       "['test/multiplicativenoise', 'test/flip', 'test/medianblur', 'test/motionblur']"
      ]
     },
     "execution_count": 15,
     "metadata": {},
     "output_type": "execute_result"
    }
   ],
   "source": [
    "exp = Expander(verbosity=True)\n",
    "exp('test', regexp='test/[mf].*', regexp_option='matches')"
   ]
  },
  {
   "cell_type": "markdown",
   "metadata": {},
   "source": [
    "## clearing files"
   ]
  },
  {
   "cell_type": "code",
   "execution_count": 16,
   "metadata": {},
   "outputs": [],
   "source": [
    "import shutil\n",
    "shutil.rmtree('test')"
   ]
  }
 ],
 "metadata": {
  "kernelspec": {
   "display_name": "Python 3",
   "language": "python",
   "name": "python3"
  },
  "language_info": {
   "codemirror_mode": {
    "name": "ipython",
    "version": 3
   },
   "file_extension": ".py",
   "mimetype": "text/x-python",
   "name": "python",
   "nbconvert_exporter": "python",
   "pygments_lexer": "ipython3",
   "version": "3.7.6"
  }
 },
 "nbformat": 4,
 "nbformat_minor": 4
}
